{
 "cells": [
  {
   "cell_type": "code",
   "execution_count": 3,
   "metadata": {},
   "outputs": [],
   "source": [
    "import numpy as np\n",
    "import matplotlib.pyplot as plt\n",
    "%matplotlib inline"
   ]
  },
  {
   "cell_type": "markdown",
   "metadata": {},
   "source": [
    "# Task 1\n",
    "Try different linear combinations using different scalar values. In your methodology discuss the different functions that you have used, the linear equation and vector form of the linear combination, and the flowchart for declaring and displaying linear combinations. Please make sure that your flowchart has only few words and not putting the entire code as it is bad practice. In your results, display and discuss the linear combination visualization you made. You should use the cells below for displaying the equation markdows using LaTeX and your code."
   ]
  },
  {
   "cell_type": "markdown",
   "metadata": {},
   "source": [
    "### $v_{1}$ = $c_{1}$(x + 5y) $v_{2}$ = $c_{2}$ (3x + 8y)  \n",
    "### $v_{1}$ =$c_{1}\\cdot$ $\\begin{bmatrix} 1   \\\\ 5 \\end{bmatrix}$, $v_{2}$ =$c_{2}\\cdot$ $\\begin{bmatrix} 3   \\\\8 \\end{bmatrix}$"
   ]
  },
  {
   "cell_type": "code",
   "execution_count": 47,
   "metadata": {},
   "outputs": [
    {
     "data": {
      "image/png": "[encoded data removed]",
      "text/plain": [
       "<Figure size 432x288 with 1 Axes>"
      ]
     },
     "metadata": {
      "needs_background": "light"
     },
     "output_type": "display_data"
    }
   ],
   "source": [
    "vectA = np.array([1,5])\n",
    "vectB = np.array([3,8])\n",
    "R = np.arange(-10,10,2)\n",
    "c1, c2 = np.meshgrid(R,R)\n",
    "vectR = vectA + vectB\n",
    "spanRx = c1*vectA[0] + c2*vectB[0]\n",
    "spanRy = c1*vectA[1] + c2*vectB[1]\n",
    "#plt.scatter(R*vectA[0],R*vectA[1])\n",
    "plt.scatter(spanRx,spanRy, s=2, alpha=0.75,color='red')\n",
    "\n",
    "plt.axhline(y=0, color='purple')\n",
    "plt.axvline(x=0, color='yellow')\n",
    "plt.grid()\n",
    "plt.show()"
   ]
  },
  {
   "cell_type": "markdown",
   "metadata": {},
   "source": [
    "# Task 2\n",
    "Try making three unque spans using different linear combinations . In your methodology discuss the different functions that you have used, the linear equations and vector form of span, and the flowchart for declaring and displaying span. Please make sure that your flowchart has only few words and not putting the entire code as it is bad practice. In your results, display and discuss the span visualization you made. You should use the cells below for displaying the equation markdows using LaTeX and your code."
   ]
  },
  {
   "cell_type": "markdown",
   "metadata": {},
   "source": [
    "### $v_{1}$ = $c_{1}$(2x + 3y) $v_{2}$ = $c_{2}$ (-7x + 8y)  \n",
    "### $v_{1}$ =$c_{1}\\cdot$ $\\begin{bmatrix} 2  \\\\ 3 \\end{bmatrix}$, $v_{2}$ =$c_{2}\\cdot$ $\\begin{bmatrix} -7   \\\\8 \\end{bmatrix}$\n",
    "\n",
    "\n",
    "\n"
   ]
  },
  {
   "cell_type": "code",
   "execution_count": 48,
   "metadata": {},
   "outputs": [
    {
     "data": {
      "image/png": "[encoded data removed]",
      "text/plain": [
       "<Figure size 432x288 with 1 Axes>"
      ]
     },
     "metadata": {
      "needs_background": "light"
     },
     "output_type": "display_data"
    }
   ],
   "source": [
    "vectA = np.array([2,3])\n",
    "vectB = np.array([-7,8])\n",
    "R = np.arange(-10,10,2)\n",
    "c1, c2 = np.meshgrid(R,R)\n",
    "vectR = vectA + vectB\n",
    "spanRx = c1*vectA[0] + c2*vectB[0]\n",
    "spanRy = c1*vectA[1] + c2*vectB[1]\n",
    "#plt.scatter(R*vectA[0],R*vectA[1])\n",
    "plt.scatter(spanRx,spanRy, s=2, alpha=0.75,color='red')\n",
    "\n",
    "plt.axhline(y=0, color='purple')\n",
    "plt.axvline(x=0, color='yellow')\n",
    "plt.grid()\n",
    "plt.show()"
   ]
  },
  {
   "cell_type": "markdown",
   "metadata": {},
   "source": [
    "### $v_{1}$ = $c_{1}$(1x + 3y) $v_{2}$ = $c_{2}$ (-5x + -2y)  \n",
    "### $v_{1}$ =$c_{1}\\cdot$ $\\begin{bmatrix} 1   \\\\ 3 \\end{bmatrix}$, $v_{2}$ =$c_{2}\\cdot$ $\\begin{bmatrix} -5   \\\\-2\\end{bmatrix}$"
   ]
  },
  {
   "cell_type": "code",
   "execution_count": 51,
   "metadata": {},
   "outputs": [
    {
     "data": {
      "image/png": "[encoded data removed]",
      "text/plain": [
       "<Figure size 432x288 with 1 Axes>"
      ]
     },
     "metadata": {
      "needs_background": "light"
     },
     "output_type": "display_data"
    }
   ],
   "source": [
    "vectA = np.array([1,3])\n",
    "vectB = np.array([-5,-2])\n",
    "R = np.arange(-10,10,2)\n",
    "c1, c2 = np.meshgrid(R,R)\n",
    "vectR = vectA + vectB\n",
    "spanRx = c1*vectA[0] + c2*vectB[0]\n",
    "spanRy = c1*vectA[1] + c2*vectB[1]\n",
    "#plt.scatter(R*vectA[0],R*vectA[1])\n",
    "plt.scatter(spanRx,spanRy, s=2, alpha=0.75,color='red')\n",
    "\n",
    "plt.axhline(y=0, color='purple')\n",
    "plt.axvline(x=0, color='yellow')\n",
    "plt.grid()\n",
    "plt.show()"
   ]
  },
  {
   "cell_type": "markdown",
   "metadata": {},
   "source": [
    "### $v_{1}$ = $c_{1}$(8x - y) $v_{2}$ = $c_{2}$ (2x - 5y)  \n",
    "### $v_{1}$ =$c_{1}\\cdot$ $\\begin{bmatrix} 8   \\\\ -1 \\end{bmatrix}$, $v_{2}$ =$c_{2}\\cdot$ $\\begin{bmatrix} 2  \\\\-5 \\end{bmatrix}$"
   ]
  },
  {
   "cell_type": "code",
   "execution_count": 52,
   "metadata": {},
   "outputs": [
    {
     "data": {
      "image/png": "[encoded data removed]",
      "text/plain": [
       "<Figure size 432x288 with 1 Axes>"
      ]
     },
     "metadata": {
      "needs_background": "light"
     },
     "output_type": "display_data"
    }
   ],
   "source": [
    "vectA = np.array([8,-1])\n",
    "vectB = np.array([2,-5])\n",
    "R = np.arange(-10,10,2)\n",
    "c1, c2 = np.meshgrid(R,R)\n",
    "vectR = vectA + vectB\n",
    "spanRx = c1*vectA[0] + c2*vectB[0]\n",
    "spanRy = c1*vectA[1] + c2*vectB[1]\n",
    "#plt.scatter(R*vectA[0],R*vectA[1])\n",
    "plt.scatter(spanRx,spanRy, s=2, alpha=0.75,color='red')\n",
    "\n",
    "plt.axhline(y=0, color='purple')\n",
    "plt.axvline(x=0, color='yellow')\n",
    "plt.grid()\n",
    "plt.show()"
   ]
  }
 ],
 "metadata": {
  "kernelspec": {
   "display_name": "Python 3",
   "language": "python",
   "name": "python3"
  },
  "language_info": {
   "codemirror_mode": {
    "name": "ipython",
    "version": 3
   },
   "file_extension": ".py",
   "mimetype": "text/x-python",
   "name": "python",
   "nbconvert_exporter": "python",
   "pygments_lexer": "ipython3",
   "version": "3.8.3"
  }
 },
 "nbformat": 4,
 "nbformat_minor": 4
}
